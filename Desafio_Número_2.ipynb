{
  "cells": [
    {
      "cell_type": "code",
      "execution_count": 11,
      "metadata": {},
      "outputs": [
        {
          "name": "stdout",
          "output_type": "stream",
          "text": [
            "Bienvenido a mil programadores! Por favor complete los siguientes datos\n",
            "ERROR: Contraseña inapropiada\n"
          ]
        }
      ],
      "source": [
        "import string\n",
        "def validar(password):\n",
        "    if(len(password)>=8 and len(password)<=16):\n",
        "        hayMayuscula = False\n",
        "        hayMinuscula = False\n",
        "        hayCaracterNumerico = False\n",
        "        for i in range(len(password)):\n",
        "            if(password[i] in string.ascii_uppercase):\n",
        "                hayMayuscula = True\n",
        "            elif(password[i] in string.ascii_lowercase):\n",
        "                hayMinuscula = True\n",
        "            elif(password[i].isdigit()):\n",
        "                hayCaracterNumerico = True\n",
        "            if(hayMinuscula and hayCaracterNumerico and hayMayuscula):\n",
        "                return True\n",
        "    else:\n",
        "        return False\n",
        "        \n",
        "\n",
        "def solicitud():\n",
        "    mail = input(\"ingrese correo electronico:\")\n",
        "    password = input(\"ingrese contraseña\")\n",
        "    if(validar(password)):\n",
        "        print(\"Registro Exitoso!\")\n",
        "    else:\n",
        "        print(\"ERROR: Contraseña inapropiada\")\n",
        "\n",
        "def main():\n",
        "    print(\"Bienvenido a mil programadores! Por favor complete los siguientes datos\")\n",
        "    solicitud()\n",
        "main()"
      ]
    },
    {
      "cell_type": "markdown",
      "metadata": {
        "id": "y2UVvXSAxvsB"
      },
      "source": [
        "#Comisión Lunes y Miércoles\n",
        "\n",
        "Se desean registrar usuarios en una aplicación. Para ello se solicitan una dirección de correo electrónico y una contraseña. Particularmente nos centraremos en este último dato, del cual deberemos asegurar que cumpla con ciertos criterios de seguridad.\n",
        "\n",
        "Con la problemática planteada antes se solicita implementar una función que permita validar la seguridad de una contraseña atendiendo a las siguientes restricciones:\n",
        "\n",
        "```python\n",
        "    #Debe incluir al menos una letra en minúscula.\n",
        "    #Debe incluir al menos una letra en mayúscula.\n",
        "    #Debe incluir al menos un carácter numérico.\n",
        "    #Debe incluir contener un mínimo de 8 caracteres\n",
        "    #No debe tener más de 16 caracteres.\n",
        "\n",
        "    #AYUDA\n",
        "    #1- GENERANDO ABECEDARIO EN MAYÚSCULA Y MINÚSCULA\n",
        "    import string\n",
        "    string.ascii_uppercase\n",
        "    string.ascii_lowercase\n",
        "    \n",
        "    #2- Como saber si un carácter es un número con \"isdigit()\"\n",
        "    cadena = \"1\"\n",
        "    cadena.isdigit() # Devuelve True si es un número o False en caso contrario\n",
        "´´´\n"
      ]
    },
    {
      "cell_type": "code",
      "execution_count": 2,
      "metadata": {},
      "outputs": [
        {
          "name": "stdout",
          "output_type": "stream",
          "text": [
            "<class 'str'>\n"
          ]
        }
      ],
      "source": [
        "import string\n",
        "\n",
        "print(type(string.ascii_uppercase))"
      ]
    }
  ],
  "metadata": {
    "colab": {
      "collapsed_sections": [],
      "provenance": []
    },
    "kernelspec": {
      "display_name": "Python 3.8.5 ('base')",
      "language": "python",
      "name": "python3"
    },
    "language_info": {
      "codemirror_mode": {
        "name": "ipython",
        "version": 3
      },
      "file_extension": ".py",
      "mimetype": "text/x-python",
      "name": "python",
      "nbconvert_exporter": "python",
      "pygments_lexer": "ipython3",
      "version": "3.8.5"
    },
    "vscode": {
      "interpreter": {
        "hash": "043b97f929a6ff46ad8bd10509b0214b3a5789cfe68791da98551e7802523e28"
      }
    }
  },
  "nbformat": 4,
  "nbformat_minor": 0
}
